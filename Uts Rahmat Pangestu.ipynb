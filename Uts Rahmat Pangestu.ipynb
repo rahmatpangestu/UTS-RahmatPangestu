{
 "cells": [
  {
   "cell_type": "code",
   "execution_count": 1,
   "id": "df71d647-ca65-42c9-bf5f-7e08ff38bfba",
   "metadata": {},
   "outputs": [],
   "source": [
    "Rahmat Pangestu\n",
    "221011402286\n",
    "05 TPLM 006"
   ]
  },
  {
   "cell_type": "code",
   "execution_count": 3,
   "id": "449715f7-54ed-47c7-8a61-fe69ea643a12",
   "metadata": {},
   "outputs": [
    {
     "name": "stdout",
     "output_type": "stream",
     "text": [
      "[{'name': 'Company 3'}, {'name': 'Company 2'}, {'name': 'Company 1'}]\n"
     ]
    }
   ],
   "source": [
    "companies = [\n",
    "    {\"name\": \"Company 1\"},\n",
    "    {\"name\": \"Company 2\"},\n",
    "    {\"name\": \"Company 3\"}\n",
    "]\n",
    "\n",
    "sorted_companies = sorted(companies, key=lambda x: x[\"name\"], reverse=True)\n",
    "\n",
    "print(sorted_companies)\n"
   ]
  },
  {
   "cell_type": "code",
   "execution_count": 4,
   "id": "302f3b7c-e8e1-491d-8290-c5109de8dc69",
   "metadata": {},
   "outputs": [
    {
     "name": "stdout",
     "output_type": "stream",
     "text": [
      "Company 1: Retail (United States)\n",
      "Company 2: Technology (United Kingdom)\n",
      "Company 3: Healthcare (United States)\n"
     ]
    }
   ],
   "source": [
    "companies = [\n",
    "    {\"name\": \"Company 1\", \"domain\": \"Retail (United States)\"},\n",
    "    {\"name\": \"Company 2\", \"domain\": \"Technology (United Kingdom)\"},\n",
    "    {\"name\": \"Company 3\", \"domain\": \"Healthcare (United States)\"}\n",
    "]\n",
    "\n",
    "for company in companies:\n",
    "    print(f\"{company['name']}: {company['domain']}\")\n"
   ]
  },
  {
   "cell_type": "code",
   "execution_count": 6,
   "id": "50e287d5-ca6a-42b3-9833-2128dc46195c",
   "metadata": {},
   "outputs": [
    {
     "name": "stdout",
     "output_type": "stream",
     "text": [
      "{'Retail': ['John Doe', 'Robert White', 'Ying Han Tan'], 'Technology': ['Tom Smith', 'Rubby Lee'], 'Healthcare': ['Kenneth Ng', 'Andrew Sebastian']}\n"
     ]
    }
   ],
   "source": [
    "companies = [\n",
    "    {\"name\": \"Company 1\", \"domain\": \"Retail\", \"employees\": [\"John Doe\", \"Robert White\", \"Ying Han Tan\"]},\n",
    "    {\"name\": \"Company 2\", \"domain\": \"Technology\", \"employees\": [\"Tom Smith\", \"Rubby Lee\"]},\n",
    "    {\"name\": \"Company 3\", \"domain\": \"Healthcare\", \"employees\": [\"Kenneth Ng\", \"Andrew Sebastian\"]}\n",
    "]\n",
    "\n",
    "# Initialize an empty dictionary to store employees by domain\n",
    "employees_by_domain = {}\n",
    "\n",
    "# Populate the dictionary with employees organized by domain\n",
    "for company in companies:\n",
    "    domain = company[\"domain\"]\n",
    "    employees = company[\"employees\"]\n",
    "    employees_by_domain[domain] = employees\n",
    "\n",
    "# Print the organized employees by domain\n",
    "print(employees_by_domain)\n"
   ]
  },
  {
   "cell_type": "code",
   "execution_count": 8,
   "id": "714bad68-663d-44a6-91d4-75c4cd314109",
   "metadata": {},
   "outputs": [
    {
     "name": "stdout",
     "output_type": "stream",
     "text": [
      "[{'full_name': 'John Doe', 'company': 'Company 1', 'country': 'United States'}, {'full_name': 'Ying Han Tan', 'company': 'Company 1', 'country': 'United States'}, {'full_name': 'Robert White', 'company': 'Company 1', 'country': 'United States'}, {'full_name': 'Tom Smith', 'company': 'Company 2', 'country': 'United Kingdom'}, {'full_name': 'Rubby Lee', 'company': 'Company 2', 'country': 'United Kingdom'}, {'full_name': 'Andrew Sebastian', 'company': 'Company 3', 'country': 'United Kingdom'}, {'full_name': 'Kenneth Ng', 'company': 'Company 3', 'country': 'United States'}]\n"
     ]
    }
   ],
   "source": [
    "companies = [\n",
    "    {\n",
    "        \"name\": \"Company 1\",\n",
    "        \"country\": \"United States\",\n",
    "        \"employees\": [\"John Doe\", \"Ying Han Tan\", \"Robert White\"]\n",
    "    },\n",
    "    {\n",
    "        \"name\": \"Company 2\",\n",
    "        \"country\": \"United Kingdom\",\n",
    "        \"employees\": [\"Tom Smith\", \"Rubby Lee\"]\n",
    "    },\n",
    "    {\n",
    "        \"name\": \"Company 3\",\n",
    "        \"country\": \"United Kingdom\",\n",
    "        \"employees\": [\"Andrew Sebastian\"]\n",
    "    },\n",
    "    {\n",
    "        \"name\": \"Company 3\",\n",
    "        \"country\": \"United States\",\n",
    "        \"employees\": [\"Kenneth Ng\"]\n",
    "    }\n",
    "]\n",
    "\n",
    "def get_employees_with_country(companies):\n",
    "    result = []\n",
    "    for company in companies:\n",
    "        for employee in company[\"employees\"]:\n",
    "            result.append({\n",
    "                \"full_name\": employee,\n",
    "                \"company\": company[\"name\"],\n",
    "                \"country\": company[\"country\"]\n",
    "            })\n",
    "    return result\n",
    "\n",
    "# Call the function and print the result\n",
    "employees_with_country = get_employees_with_country(companies)\n",
    "print(employees_with_country)\n"
   ]
  },
  {
   "cell_type": "code",
   "execution_count": 10,
   "id": "1a75f437-104d-4a5a-bfb2-ea6e2c638466",
   "metadata": {},
   "outputs": [
    {
     "name": "stdout",
     "output_type": "stream",
     "text": [
      "[{'company': 'Company 1', 'employee_nationality': {'Australia': 2, 'Hong Kong': 1}}, {'company': 'Company 2', 'employee_nationality': {'Hong Kong': 1, 'United States': 1}}, {'company': 'Company 3', 'employee_nationality': {'United States': 2}}]\n"
     ]
    }
   ],
   "source": [
    "companies = [\n",
    "    {\n",
    "        \"name\": \"Company 1\",\n",
    "        \"employees\": [\n",
    "            {\"full_name\": \"John Doe\", \"nationality\": \"Australia\"},\n",
    "            {\"full_name\": \"Robert White\", \"nationality\": \"Australia\"},\n",
    "            {\"full_name\": \"Ying Han Tan\", \"nationality\": \"Hong Kong\"}\n",
    "        ]\n",
    "    },\n",
    "    {\n",
    "        \"name\": \"Company 2\",\n",
    "        \"employees\": [\n",
    "            {\"full_name\": \"Tom Smith\", \"nationality\": \"Hong Kong\"},\n",
    "            {\"full_name\": \"Rubby Lee\", \"nationality\": \"United States\"}\n",
    "        ]\n",
    "    },\n",
    "    {\n",
    "        \"name\": \"Company 3\",\n",
    "        \"employees\": [\n",
    "            {\"full_name\": \"Kenneth Ng\", \"nationality\": \"United States\"},\n",
    "            {\"full_name\": \"Andrew Sebastian\", \"nationality\": \"United States\"}\n",
    "        ]\n",
    "    }\n",
    "]\n",
    "from collections import defaultdict\n",
    "\n",
    "def get_employee_nationality_count(companies):\n",
    "    result = []\n",
    "    \n",
    "    for company in companies:\n",
    "        # Use defaultdict to count nationalities\n",
    "        nationality_count = defaultdict(int)\n",
    "        \n",
    "        for employee in company[\"employees\"]:\n",
    "            nationality_count[employee[\"nationality\"]] += 1\n",
    "        \n",
    "        # Convert defaultdict to regular dict and append to result list\n",
    "        result.append({\n",
    "            \"company\": company[\"name\"],\n",
    "            \"employee_nationality\": dict(nationality_count)\n",
    "        })\n",
    "    \n",
    "    return result\n",
    "\n",
    "# Call the function and print the result\n",
    "nationality_count_by_company = get_employee_nationality_count(companies)\n",
    "print(nationality_count_by_company)\n"
   ]
  }
 ],
 "metadata": {
  "kernelspec": {
   "display_name": "Python 3 (ipykernel)",
   "language": "python",
   "name": "python3"
  },
  "language_info": {
   "codemirror_mode": {
    "name": "ipython",
    "version": 3
   },
   "file_extension": ".py",
   "mimetype": "text/x-python",
   "name": "python",
   "nbconvert_exporter": "python",
   "pygments_lexer": "ipython3",
   "version": "3.12.6"
  }
 },
 "nbformat": 4,
 "nbformat_minor": 5
}
